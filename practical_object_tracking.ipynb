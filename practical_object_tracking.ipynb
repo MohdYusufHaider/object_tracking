{
 "cells": [
  {
   "cell_type": "code",
   "execution_count": 1,
   "id": "52e39976-af7c-45e9-8b95-a9aaa769ec5d",
   "metadata": {},
   "outputs": [],
   "source": [
    "#Q1.Implement a Kalman filter to predict and update the state of an object given its measurements?"
   ]
  },
  {
   "cell_type": "code",
   "execution_count": 11,
   "id": "29e9016f-5a75-4cd8-bd5e-14fc7e4a84dd",
   "metadata": {},
   "outputs": [
    {
     "name": "stdout",
     "output_type": "stream",
     "text": [
      "[[1.575]\n",
      " [0.525]\n",
      " [0.975]\n",
      " [0.325]]\n"
     ]
    }
   ],
   "source": [
    "import numpy as np\n",
    "\n",
    "class KalmanFilter:\n",
    "    def __init__(self, dim_x, dim_z):\n",
    "        # Initialize state vector and covariance\n",
    "        self.x = np.zeros((dim_x, 1))  \n",
    "        self.P = np.eye(dim_x)        \n",
    "        self.F = np.eye(dim_x)        \n",
    "        self.H = np.zeros((dim_z, dim_x))  \n",
    "        self.R = np.eye(dim_z)        \n",
    "        self.Q = np.eye(dim_x)        \n",
    "\n",
    "    def predict(self):\n",
    "        # Predict the next state\n",
    "        self.x = np.dot(self.F, self.x)\n",
    "        self.P = np.dot(np.dot(self.F, self.P), self.F.T) + self.Q\n",
    "\n",
    "    def update(self, z):\n",
    "        # Update state using measurement\n",
    "        y = z - np.dot(self.H, self.x)\n",
    "        S = np.dot(self.H, np.dot(self.P, self.H.T)) + self.R\n",
    "        K = np.dot(np.dot(self.P, self.H.T), np.linalg.inv(S))\n",
    "        self.x += np.dot(K, y)\n",
    "        self.P = self.P - np.dot(K, np.dot(self.H, self.P))\n",
    "\n",
    "kf = KalmanFilter(dim_x=4, dim_z=2)\n",
    "kf.F = np.array([[1, 1, 0, 0], [0, 1, 0, 0], [0, 0, 1, 1], [0, 0, 0, 1]])  # Constant velocity model\n",
    "kf.H = np.array([[1, 0, 0, 0], [0, 0, 1, 0]])  # Position measurements\n",
    "\n",
    "measurement = np.array([[2.1], [1.3]])  \n",
    "kf.predict()\n",
    "kf.update(measurement)\n",
    "print(kf.x)  \n"
   ]
  },
  {
   "cell_type": "code",
   "execution_count": 3,
   "id": "24d9e180-99cb-4282-b877-c82aac98a088",
   "metadata": {},
   "outputs": [],
   "source": [
    "#Q2.Write a function to normalize an image array such that pixel values are scaled between 0 and 1?"
   ]
  },
  {
   "cell_type": "code",
   "execution_count": 4,
   "id": "e6db5131-b6ff-4df2-8809-ca5752b92211",
   "metadata": {},
   "outputs": [
    {
     "name": "stdout",
     "output_type": "stream",
     "text": [
      "[[0.         0.50196078 1.        ]\n",
      " [0.19607843 0.78431373 0.39215686]]\n"
     ]
    }
   ],
   "source": [
    "def normalize_image(image):\n",
    "    return (image - np.min(image)) / (np.max(image) - np.min(image))\n",
    "\n",
    "# Example Usage\n",
    "image = np.array([[0, 128, 255], [50, 200, 100]])\n",
    "normalized_image = normalize_image(image)\n",
    "print(normalized_image)\n"
   ]
  },
  {
   "cell_type": "code",
   "execution_count": 5,
   "id": "6c231faa-c48f-49cf-a517-ecd9d8d6bb2a",
   "metadata": {},
   "outputs": [],
   "source": [
    "#Q3.Create a function to generate dummy object detection data with confidence scores and bounding boxes.\n",
    "#Filter the detections based on a confidence threshold?"
   ]
  },
  {
   "cell_type": "code",
   "execution_count": 6,
   "id": "31a1e8d9-aaf9-422a-a888-512bb33eb8fa",
   "metadata": {},
   "outputs": [
    {
     "name": "stdout",
     "output_type": "stream",
     "text": [
      "Generated Detections:\n",
      "{'object_id': 17, 'confidence': 0.91, 'bounding_box': [446, 11, 872, 524]}\n",
      "{'object_id': 57, 'confidence': 0.77, 'bounding_box': [402, 105, 798, 932]}\n",
      "{'object_id': 30, 'confidence': 0.64, 'bounding_box': [114, 24, 624, 501]}\n",
      "{'object_id': 30, 'confidence': 0.87, 'bounding_box': [206, 185, 844, 556]}\n",
      "{'object_id': 92, 'confidence': 0.51, 'bounding_box': [297, 299, 804, 896]}\n",
      "{'object_id': 54, 'confidence': 0.72, 'bounding_box': [23, 156, 898, 908]}\n",
      "{'object_id': 79, 'confidence': 0.73, 'bounding_box': [443, 353, 660, 526]}\n",
      "{'object_id': 20, 'confidence': 0.91, 'bounding_box': [281, 405, 888, 600]}\n",
      "{'object_id': 80, 'confidence': 0.75, 'bounding_box': [493, 8, 749, 576]}\n",
      "{'object_id': 91, 'confidence': 0.83, 'bounding_box': [494, 56, 635, 663]}\n",
      "{'object_id': 54, 'confidence': 0.76, 'bounding_box': [20, 92, 885, 924]}\n",
      "{'object_id': 100, 'confidence': 0.9, 'bounding_box': [352, 278, 586, 596]}\n",
      "{'object_id': 22, 'confidence': 0.7, 'bounding_box': [73, 349, 797, 795]}\n",
      "{'object_id': 26, 'confidence': 0.72, 'bounding_box': [314, 270, 890, 629]}\n",
      "{'object_id': 59, 'confidence': 0.54, 'bounding_box': [385, 449, 673, 857]}\n",
      "\n",
      "Filtered Detections (Confidence >= 0.8):\n",
      "{'object_id': 17, 'confidence': 0.91, 'bounding_box': [446, 11, 872, 524]}\n",
      "{'object_id': 30, 'confidence': 0.87, 'bounding_box': [206, 185, 844, 556]}\n",
      "{'object_id': 20, 'confidence': 0.91, 'bounding_box': [281, 405, 888, 600]}\n",
      "{'object_id': 91, 'confidence': 0.83, 'bounding_box': [494, 56, 635, 663]}\n",
      "{'object_id': 100, 'confidence': 0.9, 'bounding_box': [352, 278, 586, 596]}\n"
     ]
    }
   ],
   "source": [
    "import random\n",
    "\n",
    "def generate_dummy_detections(num_detections=10):\n",
    "\n",
    "    detections = []\n",
    "    for _ in range(num_detections):\n",
    "        detection = {\n",
    "            \"object_id\": random.randint(1, 100),  # Random object ID\n",
    "            \"confidence\": round(random.uniform(0.5, 1.0), 2),  # Confidence score (0.5 to 1.0)\n",
    "            \"bounding_box\": [  # Random bounding box coordinates (x_min, y_min, x_max, y_max)\n",
    "                random.randint(0, 500),\n",
    "                random.randint(0, 500),\n",
    "                random.randint(500, 1000),\n",
    "                random.randint(500, 1000)\n",
    "            ]\n",
    "        }\n",
    "        detections.append(detection)\n",
    "    return detections\n",
    "\n",
    "\n",
    "def filter_detections_by_confidence(detections, confidence_threshold=0.7):\n",
    "\n",
    "    return [det for det in detections if det[\"confidence\"] >= confidence_threshold]\n",
    "\n",
    "\n",
    "# Example usage\n",
    "num_detections = 15\n",
    "confidence_threshold = 0.8\n",
    "\n",
    "# Generate dummy detections\n",
    "dummy_detections = generate_dummy_detections(num_detections)\n",
    "print(\"Generated Detections:\")\n",
    "for detection in dummy_detections:\n",
    "    print(detection)\n",
    "\n",
    "# Filter detections\n",
    "filtered_detections = filter_detections_by_confidence(dummy_detections, confidence_threshold)\n",
    "print(\"\\nFiltered Detections (Confidence >= 0.8):\")\n",
    "for detection in filtered_detections:\n",
    "    print(detection)\n"
   ]
  },
  {
   "cell_type": "code",
   "execution_count": 7,
   "id": "4e1bf071-2fbe-484d-bea1-d34341cd6799",
   "metadata": {},
   "outputs": [],
   "source": [
    "#Q4.Write a function that takes a list of YOLO detections and extracts a random 128-dimensional feature vector\n",
    "#for each detection?"
   ]
  },
  {
   "cell_type": "code",
   "execution_count": 10,
   "id": "55d250e8-4e6c-45a2-b3c2-452806f19b8e",
   "metadata": {},
   "outputs": [
    {
     "name": "stdout",
     "output_type": "stream",
     "text": [
      "[{'bbox': [10, 20, 30, 40], 'features': array([0.29953161, 0.0399048 , 0.0044977 , 0.85282034, 0.35691642,\n",
      "       0.84850764, 0.44322488, 0.69827462, 0.18524439, 0.73457445,\n",
      "       0.49483795, 0.7713213 , 0.44394809, 0.49345807, 0.7585685 ,\n",
      "       0.73450902, 0.05472137, 0.27849217, 0.7408834 , 0.89313286,\n",
      "       0.46975427, 0.11847442, 0.82197867, 0.03729615, 0.78583707,\n",
      "       0.4111334 , 0.60268569, 0.4468033 , 0.0189645 , 0.24990003,\n",
      "       0.79989332, 0.19483203, 0.85987964, 0.58598594, 0.35596067,\n",
      "       0.90026325, 0.13037296, 0.29129886, 0.13712382, 0.84811475,\n",
      "       0.1427735 , 0.27400163, 0.75509532, 0.20250482, 0.27292907,\n",
      "       0.48250712, 0.21397236, 0.49482146, 0.31731717, 0.3766769 ,\n",
      "       0.94290435, 0.5445002 , 0.71910963, 0.706825  , 0.09354088,\n",
      "       0.03867523, 0.53232978, 0.67710256, 0.35526879, 0.83249712,\n",
      "       0.44478827, 0.37522643, 0.29690031, 0.37569291, 0.59208111,\n",
      "       0.46438338, 0.74592174, 0.12786363, 0.69863916, 0.8847364 ,\n",
      "       0.06843903, 0.96599771, 0.56239919, 0.79298933, 0.69482065,\n",
      "       0.20739218, 0.50382947, 0.54659003, 0.79483033, 0.46652034,\n",
      "       0.1303348 , 0.65236594, 0.83715616, 0.18194257, 0.31568573,\n",
      "       0.45603716, 0.48697994, 0.26096289, 0.11338098, 0.1631705 ,\n",
      "       0.42977885, 0.06887223, 0.67181246, 0.72519137, 0.75679042,\n",
      "       0.34088533, 0.18864171, 0.43757044, 0.14335655, 0.92985895,\n",
      "       0.25506155, 0.9128606 , 0.41357555, 0.56715446, 0.36459742,\n",
      "       0.75473291, 0.6491047 , 0.67312882, 0.05289006, 0.33610639,\n",
      "       0.48297805, 0.53160442, 0.33844708, 0.20319566, 0.75332032,\n",
      "       0.90130789, 0.82423165, 0.61167739, 0.00180237, 0.20498323,\n",
      "       0.85054753, 0.7576182 , 0.93419226, 0.34208293, 0.59364535,\n",
      "       0.94697872, 0.25908587, 0.40412614])}, {'bbox': [15, 25, 35, 45], 'features': array([0.50768762, 0.55282564, 0.01099776, 0.52258661, 0.52063102,\n",
      "       0.37590195, 0.57358015, 0.91169475, 0.9940363 , 0.67648941,\n",
      "       0.14082297, 0.40422108, 0.68185919, 0.86792286, 0.04817148,\n",
      "       0.97592204, 0.4498357 , 0.95486994, 0.76103852, 0.48162441,\n",
      "       0.06197135, 0.91734054, 0.09890384, 0.45568853, 0.52166178,\n",
      "       0.75512991, 0.21720986, 0.45600536, 0.57059978, 0.72940846,\n",
      "       0.89289001, 0.0815319 , 0.29672077, 0.81441684, 0.49028254,\n",
      "       0.89847438, 0.37679039, 0.131596  , 0.71843028, 0.68144864,\n",
      "       0.78702238, 0.9406061 , 0.68759272, 0.57851716, 0.08442966,\n",
      "       0.59822629, 0.28053738, 0.02415062, 0.30138044, 0.35328899,\n",
      "       0.12193717, 0.54416361, 0.75476541, 0.24704828, 0.20465089,\n",
      "       0.72053714, 0.52041675, 0.92903128, 0.75608967, 0.52337779,\n",
      "       0.21056665, 0.40557352, 0.06853418, 0.22802489, 0.16001121,\n",
      "       0.92835184, 0.63579094, 0.92418814, 0.01045964, 0.56479674,\n",
      "       0.76460761, 0.69589463, 0.10371589, 0.92875838, 0.26667149,\n",
      "       0.79162067, 0.01519277, 0.98554183, 0.16019613, 0.76394074,\n",
      "       0.97222699, 0.70742471, 0.10021955, 0.46576489, 0.03290249,\n",
      "       0.71737559, 0.80203105, 0.03214309, 0.60151686, 0.4189334 ,\n",
      "       0.77200255, 0.87587062, 0.63574209, 0.36362759, 0.25405518,\n",
      "       0.38924752, 0.12414801, 0.86473226, 0.87498602, 0.61718681,\n",
      "       0.67294212, 0.68849685, 0.18524488, 0.95754648, 0.78187425,\n",
      "       0.31290395, 0.37141141, 0.65246872, 0.35243347, 0.56921631,\n",
      "       0.09343553, 0.02282768, 0.71803442, 0.53107641, 0.44189151,\n",
      "       0.62832683, 0.69108392, 0.35254052, 0.10211381, 0.79161754,\n",
      "       0.97465634, 0.48267956, 0.36043464, 0.2774233 , 0.65008994,\n",
      "       0.00342534, 0.68963937, 0.90444194])}]\n"
     ]
    }
   ],
   "source": [
    "def extract_features(detections):\n",
    "    return [{\"bbox\": det[\"bbox\"], \"features\": np.random.rand(128)} for det in detections]\n",
    "\n",
    "\n",
    "detections = [{\"bbox\": [10, 20, 30, 40]}, {\"bbox\": [15, 25, 35, 45]}]\n",
    "features = extract_features(detections)\n",
    "print(features)\n"
   ]
  },
  {
   "cell_type": "code",
   "execution_count": 9,
   "id": "21964ac9-77f2-4ae0-962d-e69bcee86466",
   "metadata": {},
   "outputs": [],
   "source": [
    "#Q5.Write a function to re-identify objects by matching feature vectors based on Euclidean distance?"
   ]
  },
  {
   "cell_type": "code",
   "execution_count": 12,
   "id": "913b73cb-7f55-4dde-9f54-5d4809934917",
   "metadata": {},
   "outputs": [
    {
     "name": "stdout",
     "output_type": "stream",
     "text": [
      "[(0, 0), (0, 1), (0, 2), (1, 0), (1, 1), (1, 2), (2, 0), (2, 1), (2, 2)]\n"
     ]
    }
   ],
   "source": [
    "def match_features(features1, features2, threshold=0.5):\n",
    "    matches = []\n",
    "    for i, f1 in enumerate(features1):\n",
    "        for j, f2 in enumerate(features2):\n",
    "            dist = np.linalg.norm(f1['features'] - f2['features'])\n",
    "            if dist <= threshold:\n",
    "                matches.append((i, j))\n",
    "    return matches\n",
    "\n",
    "\n",
    "features1 = [{\"features\": np.random.rand(128)} for _ in range(3)]\n",
    "features2 = [{\"features\": np.random.rand(128)} for _ in range(3)]\n",
    "matches = match_features(features1, features2, threshold=5.0)\n",
    "print(matches)\n"
   ]
  },
  {
   "cell_type": "code",
   "execution_count": 13,
   "id": "c911defb-5beb-4844-b4bc-1fec47789dc6",
   "metadata": {},
   "outputs": [],
   "source": [
    "#Q6. Write a function to track object positions using YOLO detections and a Kalman Filter?"
   ]
  },
  {
   "cell_type": "code",
   "execution_count": 14,
   "id": "40a8553f-7c7f-47dc-978c-033d3f77e3a0",
   "metadata": {},
   "outputs": [],
   "source": [
    "def track_objects(detections, kalman_filters):\n",
    "    updated_tracks = []\n",
    "    for i, det in enumerate(detections):\n",
    "        measurement = np.array([[det[\"bbox\"][0]], [det[\"bbox\"][1]]])  # Assume x, y positions\n",
    "        kf = kalman_filters[i]\n",
    "        kf.predict()\n",
    "        kf.update(measurement)\n",
    "        updated_tracks.append(kf.x)\n",
    "    return updated_tracks\n"
   ]
  },
  {
   "cell_type": "code",
   "execution_count": 15,
   "id": "92599643-636d-44b4-ab18-4966019e3d52",
   "metadata": {},
   "outputs": [],
   "source": [
    "#Q7. Implement a simple Kalman Filter to track an object's position in a 2D space (simulate the object's\n",
    "#movement with random noise)."
   ]
  },
  {
   "cell_type": "code",
   "execution_count": 16,
   "id": "05f98269-cab3-4a54-9e69-2962a289a3ff",
   "metadata": {},
   "outputs": [
    {
     "data": {
      "image/png": "[encoded data removed]",
      "text/plain": [
       "<Figure size 640x480 with 1 Axes>"
      ]
     },
     "metadata": {},
     "output_type": "display_data"
    }
   ],
   "source": [
    "import matplotlib.pyplot as plt\n",
    "\n",
    "\n",
    "true_positions = [np.array([0, 0])]\n",
    "for _ in range(50):\n",
    "    true_positions.append(true_positions[-1] + np.random.rand(2) * 5)\n",
    "\n",
    "# Add noise to measurements\n",
    "measurements = [pos + np.random.randn(2) for pos in true_positions]\n",
    "\n",
    "# Kalman Filter tracking\n",
    "kf = KalmanFilter(dim_x=4, dim_z=2)\n",
    "kf.F = np.array([[1, 1, 0, 0], [0, 1, 0, 0], [0, 0, 1, 1], [0, 0, 0, 1]])\n",
    "kf.H = np.array([[1, 0, 0, 0], [0, 0, 1, 0]])\n",
    "kf.R = np.eye(2) * 0.5  # Measurement noise\n",
    "kf.Q = np.eye(4) * 0.1  # Process noise\n",
    "\n",
    "predicted_positions = []\n",
    "for z in measurements:\n",
    "    kf.predict()\n",
    "    kf.update(z.reshape(2, 1))\n",
    "    predicted_positions.append(kf.x[:2].flatten())\n",
    "\n",
    "true_positions = np.array(true_positions)\n",
    "measurements = np.array(measurements)\n",
    "predicted_positions = np.array(predicted_positions)\n",
    "\n",
    "plt.plot(true_positions[:, 0], true_positions[:, 1], label=\"True Position\")\n",
    "plt.scatter(measurements[:, 0], measurements[:, 1], label=\"Measurements\", alpha=0.5)\n",
    "plt.plot(predicted_positions[:, 0], predicted_positions[:, 1], label=\"Predicted Position\")\n",
    "plt.legend()\n",
    "plt.show()\n"
   ]
  },
  {
   "cell_type": "code",
   "execution_count": null,
   "id": "29ccc0c4-9dd0-4533-b8cc-b06e6b3c6a92",
   "metadata": {},
   "outputs": [],
   "source": []
  }
 ],
 "metadata": {
  "kernelspec": {
   "display_name": "Python 3 (ipykernel)",
   "language": "python",
   "name": "python3"
  },
  "language_info": {
   "codemirror_mode": {
    "name": "ipython",
    "version": 3
   },
   "file_extension": ".py",
   "mimetype": "text/x-python",
   "name": "python",
   "nbconvert_exporter": "python",
   "pygments_lexer": "ipython3",
   "version": "3.12.7"
  }
 },
 "nbformat": 4,
 "nbformat_minor": 5
}
